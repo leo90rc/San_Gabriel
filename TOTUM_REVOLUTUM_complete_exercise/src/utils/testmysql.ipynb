{
 "metadata": {
  "language_info": {
   "codemirror_mode": {
    "name": "ipython",
    "version": 3
   },
   "file_extension": ".py",
   "mimetype": "text/x-python",
   "name": "python",
   "nbconvert_exporter": "python",
   "pygments_lexer": "ipython3",
   "version": "3.7.4"
  },
  "orig_nbformat": 4,
  "kernelspec": {
   "name": "python3",
   "display_name": "Python 3.7.4 64-bit"
  },
  "interpreter": {
   "hash": "16eb897c26cdfcf18817bc60a8e0737e3939ff1e8491198c807979170104e811"
  }
 },
 "nbformat": 4,
 "nbformat_minor": 2,
 "cells": [
  {
   "cell_type": "code",
   "execution_count": 1,
   "metadata": {},
   "outputs": [],
   "source": [
    "import streamlit as st\n",
    "from PIL import Image\n",
    "import os, sys\n",
    "import pandas as pd\n",
    "import json\n",
    "import pymysql\n",
    "from sqlalchemy import create_engine\n",
    "import pymysql\n",
    "from getpass import getpass\n",
    "import mysql.connector\n",
    "from mysql_driver import MySQL"
   ]
  },
  {
   "cell_type": "code",
   "execution_count": 2,
   "metadata": {},
   "outputs": [],
   "source": [
    "dir = os.path.dirname\n",
    "src_path = dir(os.getcwd())\n",
    "sep = os.sep\n",
    "totem = dir(src_path)"
   ]
  },
  {
   "cell_type": "code",
   "execution_count": 3,
   "metadata": {},
   "outputs": [],
   "source": [
    "configbd_json_path = totem + sep + 'config' + sep + 'bd_info.json'\n",
    "with open(configbd_json_path, \"r\") as configbd_json_readed:\n",
    "    json_configbd = json.load(configbd_json_readed)\n",
    "IP_DNS = json_configbd[\"IP_DNS\"]\n",
    "USER = json_configbd[\"USER\"]\n",
    "PASSWORD = json_configbd[\"PASSWORD\"]\n",
    "BD_NAME = json_configbd[\"BD_NAME\"]\n",
    "PORT = json_configbd[\"PORT\"]"
   ]
  },
  {
   "cell_type": "code",
   "execution_count": 4,
   "metadata": {},
   "outputs": [
    {
     "output_type": "stream",
     "name": "stdout",
     "text": [
      "Connected to MySQL server [australia_fires]\n"
     ]
    }
   ],
   "source": [
    "mysql_db = MySQL(IP_DNS=IP_DNS, USER=USER, PASSWORD=PASSWORD, BD_NAME=BD_NAME, PORT=PORT)\n",
    "conn = mysql_db.connect()"
   ]
  },
  {
   "cell_type": "code",
   "execution_count": 7,
   "metadata": {},
   "outputs": [
    {
     "output_type": "stream",
     "name": "stdout",
     "text": [
      "Executing:\n SELECT * FROM australia_fires.fire_archive_M6_96619\n"
     ]
    }
   ],
   "source": [
    "select_sql = \"\"\"SELECT * FROM australia_fires.fire_archive_M6_96619\"\"\"\n",
    "select_result = mysql_db.execute_get_sql(sql=select_sql)"
   ]
  },
  {
   "cell_type": "code",
   "execution_count": 16,
   "metadata": {},
   "outputs": [],
   "source": [
    "df = pd.read_sql('SELECT * FROM australia_fires.fire_archive_M6_96619', con=conn)"
   ]
  },
  {
   "cell_type": "code",
   "execution_count": 17,
   "metadata": {},
   "outputs": [
    {
     "output_type": "execute_result",
     "data": {
      "text/plain": [
       "       fire_id  latitude  longitude  brightness  scan  track    acq_date  \\\n",
       "0            0   -11.807   142.0583       313.0   1.0    1.0  2019-08-01   \n",
       "1            1  -11.7924   142.0850       319.3   1.0    1.0  2019-08-01   \n",
       "2            2  -12.8398   132.8744       311.6   3.1    1.7  2019-08-01   \n",
       "3            3  -14.4306   143.3035       310.1   1.1    1.1  2019-08-01   \n",
       "4            4  -12.4953   131.4897       310.3   4.0    1.9  2019-08-01   \n",
       "...        ...       ...        ...         ...   ...    ...         ...   \n",
       "36006    36006  -28.0656   131.6334       312.7   1.2    1.1  2019-09-30   \n",
       "36007    36007  -28.2625   128.5494       304.9   1.0    1.0  2019-09-30   \n",
       "36008    36008  -28.2941   128.5123       301.7   1.0    1.0  2019-09-30   \n",
       "36009    36009  -28.3001   128.5530       303.6   1.0    1.0  2019-09-30   \n",
       "36010    36010  -30.8641   121.4995       309.1   1.8    1.3  2019-09-30   \n",
       "\n",
       "       acq_time satellite instrument  confidence  version  bright_t31   frp  \\\n",
       "0            56     Terra      MODIS          48      6.3       297.3   6.6   \n",
       "1            56     Terra      MODIS          71      6.3       297.3  11.3   \n",
       "2            57     Terra      MODIS          42      6.3       298.7  23.1   \n",
       "3            57     Terra      MODIS          33      6.3       296.1   6.5   \n",
       "4            57     Terra      MODIS          36      6.3       298.8  27.6   \n",
       "...         ...       ...        ...         ...      ...         ...   ...   \n",
       "36006      1644      Aqua      MODIS          85      6.3       292.9  14.2   \n",
       "36007      1644      Aqua      MODIS          27      6.3       290.9   6.4   \n",
       "36008      1644      Aqua      MODIS          43      6.3       290.4   5.5   \n",
       "36009      1644      Aqua      MODIS          41      6.3       290.3   5.7   \n",
       "36010      1645      Aqua      MODIS          77      6.3       290.9  23.0   \n",
       "\n",
       "      daynight  fire_type  \n",
       "0            D          0  \n",
       "1            D          0  \n",
       "2            D          0  \n",
       "3            D          0  \n",
       "4            D          0  \n",
       "...        ...        ...  \n",
       "36006        N          0  \n",
       "36007        N          0  \n",
       "36008        N          0  \n",
       "36009        N          0  \n",
       "36010        N          2  \n",
       "\n",
       "[36011 rows x 16 columns]"
      ],
      "text/html": "<div>\n<style scoped>\n    .dataframe tbody tr th:only-of-type {\n        vertical-align: middle;\n    }\n\n    .dataframe tbody tr th {\n        vertical-align: top;\n    }\n\n    .dataframe thead th {\n        text-align: right;\n    }\n</style>\n<table border=\"1\" class=\"dataframe\">\n  <thead>\n    <tr style=\"text-align: right;\">\n      <th></th>\n      <th>fire_id</th>\n      <th>latitude</th>\n      <th>longitude</th>\n      <th>brightness</th>\n      <th>scan</th>\n      <th>track</th>\n      <th>acq_date</th>\n      <th>acq_time</th>\n      <th>satellite</th>\n      <th>instrument</th>\n      <th>confidence</th>\n      <th>version</th>\n      <th>bright_t31</th>\n      <th>frp</th>\n      <th>daynight</th>\n      <th>fire_type</th>\n    </tr>\n  </thead>\n  <tbody>\n    <tr>\n      <th>0</th>\n      <td>0</td>\n      <td>-11.807</td>\n      <td>142.0583</td>\n      <td>313.0</td>\n      <td>1.0</td>\n      <td>1.0</td>\n      <td>2019-08-01</td>\n      <td>56</td>\n      <td>Terra</td>\n      <td>MODIS</td>\n      <td>48</td>\n      <td>6.3</td>\n      <td>297.3</td>\n      <td>6.6</td>\n      <td>D</td>\n      <td>0</td>\n    </tr>\n    <tr>\n      <th>1</th>\n      <td>1</td>\n      <td>-11.7924</td>\n      <td>142.0850</td>\n      <td>319.3</td>\n      <td>1.0</td>\n      <td>1.0</td>\n      <td>2019-08-01</td>\n      <td>56</td>\n      <td>Terra</td>\n      <td>MODIS</td>\n      <td>71</td>\n      <td>6.3</td>\n      <td>297.3</td>\n      <td>11.3</td>\n      <td>D</td>\n      <td>0</td>\n    </tr>\n    <tr>\n      <th>2</th>\n      <td>2</td>\n      <td>-12.8398</td>\n      <td>132.8744</td>\n      <td>311.6</td>\n      <td>3.1</td>\n      <td>1.7</td>\n      <td>2019-08-01</td>\n      <td>57</td>\n      <td>Terra</td>\n      <td>MODIS</td>\n      <td>42</td>\n      <td>6.3</td>\n      <td>298.7</td>\n      <td>23.1</td>\n      <td>D</td>\n      <td>0</td>\n    </tr>\n    <tr>\n      <th>3</th>\n      <td>3</td>\n      <td>-14.4306</td>\n      <td>143.3035</td>\n      <td>310.1</td>\n      <td>1.1</td>\n      <td>1.1</td>\n      <td>2019-08-01</td>\n      <td>57</td>\n      <td>Terra</td>\n      <td>MODIS</td>\n      <td>33</td>\n      <td>6.3</td>\n      <td>296.1</td>\n      <td>6.5</td>\n      <td>D</td>\n      <td>0</td>\n    </tr>\n    <tr>\n      <th>4</th>\n      <td>4</td>\n      <td>-12.4953</td>\n      <td>131.4897</td>\n      <td>310.3</td>\n      <td>4.0</td>\n      <td>1.9</td>\n      <td>2019-08-01</td>\n      <td>57</td>\n      <td>Terra</td>\n      <td>MODIS</td>\n      <td>36</td>\n      <td>6.3</td>\n      <td>298.8</td>\n      <td>27.6</td>\n      <td>D</td>\n      <td>0</td>\n    </tr>\n    <tr>\n      <th>...</th>\n      <td>...</td>\n      <td>...</td>\n      <td>...</td>\n      <td>...</td>\n      <td>...</td>\n      <td>...</td>\n      <td>...</td>\n      <td>...</td>\n      <td>...</td>\n      <td>...</td>\n      <td>...</td>\n      <td>...</td>\n      <td>...</td>\n      <td>...</td>\n      <td>...</td>\n      <td>...</td>\n    </tr>\n    <tr>\n      <th>36006</th>\n      <td>36006</td>\n      <td>-28.0656</td>\n      <td>131.6334</td>\n      <td>312.7</td>\n      <td>1.2</td>\n      <td>1.1</td>\n      <td>2019-09-30</td>\n      <td>1644</td>\n      <td>Aqua</td>\n      <td>MODIS</td>\n      <td>85</td>\n      <td>6.3</td>\n      <td>292.9</td>\n      <td>14.2</td>\n      <td>N</td>\n      <td>0</td>\n    </tr>\n    <tr>\n      <th>36007</th>\n      <td>36007</td>\n      <td>-28.2625</td>\n      <td>128.5494</td>\n      <td>304.9</td>\n      <td>1.0</td>\n      <td>1.0</td>\n      <td>2019-09-30</td>\n      <td>1644</td>\n      <td>Aqua</td>\n      <td>MODIS</td>\n      <td>27</td>\n      <td>6.3</td>\n      <td>290.9</td>\n      <td>6.4</td>\n      <td>N</td>\n      <td>0</td>\n    </tr>\n    <tr>\n      <th>36008</th>\n      <td>36008</td>\n      <td>-28.2941</td>\n      <td>128.5123</td>\n      <td>301.7</td>\n      <td>1.0</td>\n      <td>1.0</td>\n      <td>2019-09-30</td>\n      <td>1644</td>\n      <td>Aqua</td>\n      <td>MODIS</td>\n      <td>43</td>\n      <td>6.3</td>\n      <td>290.4</td>\n      <td>5.5</td>\n      <td>N</td>\n      <td>0</td>\n    </tr>\n    <tr>\n      <th>36009</th>\n      <td>36009</td>\n      <td>-28.3001</td>\n      <td>128.5530</td>\n      <td>303.6</td>\n      <td>1.0</td>\n      <td>1.0</td>\n      <td>2019-09-30</td>\n      <td>1644</td>\n      <td>Aqua</td>\n      <td>MODIS</td>\n      <td>41</td>\n      <td>6.3</td>\n      <td>290.3</td>\n      <td>5.7</td>\n      <td>N</td>\n      <td>0</td>\n    </tr>\n    <tr>\n      <th>36010</th>\n      <td>36010</td>\n      <td>-30.8641</td>\n      <td>121.4995</td>\n      <td>309.1</td>\n      <td>1.8</td>\n      <td>1.3</td>\n      <td>2019-09-30</td>\n      <td>1645</td>\n      <td>Aqua</td>\n      <td>MODIS</td>\n      <td>77</td>\n      <td>6.3</td>\n      <td>290.9</td>\n      <td>23.0</td>\n      <td>N</td>\n      <td>2</td>\n    </tr>\n  </tbody>\n</table>\n<p>36011 rows × 16 columns</p>\n</div>"
     },
     "metadata": {},
     "execution_count": 17
    }
   ],
   "source": [
    "df"
   ]
  },
  {
   "cell_type": "code",
   "execution_count": null,
   "metadata": {},
   "outputs": [],
   "source": []
  }
 ]
}