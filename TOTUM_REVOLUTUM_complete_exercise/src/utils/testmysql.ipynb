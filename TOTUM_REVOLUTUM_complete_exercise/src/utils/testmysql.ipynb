{
 "metadata": {
  "language_info": {
   "codemirror_mode": {
    "name": "ipython",
    "version": 3
   },
   "file_extension": ".py",
   "mimetype": "text/x-python",
   "name": "python",
   "nbconvert_exporter": "python",
   "pygments_lexer": "ipython3",
   "version": "3.7.4"
  },
  "orig_nbformat": 4,
  "kernelspec": {
   "name": "python3",
   "display_name": "Python 3.7.4 64-bit"
  },
  "interpreter": {
   "hash": "a0947237fadc8b5561fed326db280cc5ec46a670c87cfb3a0489cf95ff262303"
  }
 },
 "nbformat": 4,
 "nbformat_minor": 2,
 "cells": [
  {
   "cell_type": "code",
   "execution_count": 95,
   "metadata": {},
   "outputs": [],
   "source": [
    "import streamlit as st\n",
    "from PIL import Image\n",
    "import os, sys\n",
    "import pandas as pd\n",
    "import json\n",
    "import pymysql\n",
    "from sqlalchemy import create_engine\n",
    "import pymysql\n",
    "from getpass import getpass\n",
    "from mysql_driver import MySQL\n",
    "from sklearn.preprocessing import LabelEncoder\n",
    "from sklearn.neighbors import KNeighborsClassifier\n",
    "from sklearn.linear_model import LogisticRegression\n",
    "from sklearn.model_selection import train_test_split\n",
    "from sklearn.ensemble import RandomForestClassifier\n",
    "from sklearn.decomposition import PCA\n",
    "from sklearn.preprocessing import StandardScaler, Normalizer\n",
    "from sklearn.pipeline import Pipeline\n",
    "from sklearn.model_selection import GridSearchCV\n",
    "from sklearn.svm import SVC\n"
   ]
  },
  {
   "cell_type": "code",
   "execution_count": 42,
   "metadata": {},
   "outputs": [],
   "source": [
    "dir = os.path.dirname\n",
    "src_path = dir(os.getcwd())\n",
    "sep = os.sep\n",
    "totem = dir(src_path)"
   ]
  },
  {
   "cell_type": "code",
   "execution_count": 43,
   "metadata": {},
   "outputs": [],
   "source": [
    "configbd_json_path = totem + sep + 'config' + sep + 'bd_info.json'\n",
    "with open(configbd_json_path, \"r\") as configbd_json_readed:\n",
    "    json_configbd = json.load(configbd_json_readed)\n",
    "IP_DNS = json_configbd[\"IP_DNS\"]\n",
    "USER = json_configbd[\"USER\"]\n",
    "PASSWORD = json_configbd[\"PASSWORD\"]\n",
    "BD_NAME = json_configbd[\"BD_NAME\"]\n",
    "PORT = json_configbd[\"PORT\"]"
   ]
  },
  {
   "cell_type": "code",
   "execution_count": 44,
   "metadata": {},
   "outputs": [
    {
     "output_type": "stream",
     "name": "stdout",
     "text": [
      "Connected to MySQL server [australia_fires]\n"
     ]
    }
   ],
   "source": [
    "mysql_db = MySQL(IP_DNS=IP_DNS, USER=USER, PASSWORD=PASSWORD, BD_NAME=BD_NAME, PORT=PORT)\n",
    "conn = mysql_db.connect()"
   ]
  },
  {
   "cell_type": "code",
   "execution_count": 45,
   "metadata": {},
   "outputs": [
    {
     "output_type": "stream",
     "name": "stdout",
     "text": [
      "Executing:\n SELECT * FROM australia_fires.fire_archive_M6_96619\n"
     ]
    }
   ],
   "source": [
    "select_sql = \"\"\"SELECT * FROM australia_fires.fire_archive_M6_96619\"\"\"\n",
    "select_result = mysql_db.execute_get_sql(sql=select_sql)"
   ]
  },
  {
   "cell_type": "code",
   "execution_count": 66,
   "metadata": {},
   "outputs": [],
   "source": [
    "df = pd.read_sql('SELECT * FROM australia_fires.fire_archive_M6_96619', con=conn)"
   ]
  },
  {
   "cell_type": "code",
   "execution_count": 67,
   "metadata": {},
   "outputs": [
    {
     "output_type": "execute_result",
     "data": {
      "text/plain": [
       "       fire_id  latitude  longitude  brightness  scan  track    acq_date  \\\n",
       "0            0   -11.807   142.0583       313.0   1.0    1.0  2019-08-01   \n",
       "1            1  -11.7924   142.0850       319.3   1.0    1.0  2019-08-01   \n",
       "2            2  -12.8398   132.8744       311.6   3.1    1.7  2019-08-01   \n",
       "3            3  -14.4306   143.3035       310.1   1.1    1.1  2019-08-01   \n",
       "4            4  -12.4953   131.4897       310.3   4.0    1.9  2019-08-01   \n",
       "...        ...       ...        ...         ...   ...    ...         ...   \n",
       "36006    36006  -28.0656   131.6334       312.7   1.2    1.1  2019-09-30   \n",
       "36007    36007  -28.2625   128.5494       304.9   1.0    1.0  2019-09-30   \n",
       "36008    36008  -28.2941   128.5123       301.7   1.0    1.0  2019-09-30   \n",
       "36009    36009  -28.3001   128.5530       303.6   1.0    1.0  2019-09-30   \n",
       "36010    36010  -30.8641   121.4995       309.1   1.8    1.3  2019-09-30   \n",
       "\n",
       "       acq_time satellite instrument  confidence  version  bright_t31   frp  \\\n",
       "0            56     Terra      MODIS          48      6.3       297.3   6.6   \n",
       "1            56     Terra      MODIS          71      6.3       297.3  11.3   \n",
       "2            57     Terra      MODIS          42      6.3       298.7  23.1   \n",
       "3            57     Terra      MODIS          33      6.3       296.1   6.5   \n",
       "4            57     Terra      MODIS          36      6.3       298.8  27.6   \n",
       "...         ...       ...        ...         ...      ...         ...   ...   \n",
       "36006      1644      Aqua      MODIS          85      6.3       292.9  14.2   \n",
       "36007      1644      Aqua      MODIS          27      6.3       290.9   6.4   \n",
       "36008      1644      Aqua      MODIS          43      6.3       290.4   5.5   \n",
       "36009      1644      Aqua      MODIS          41      6.3       290.3   5.7   \n",
       "36010      1645      Aqua      MODIS          77      6.3       290.9  23.0   \n",
       "\n",
       "      daynight  fire_type  \n",
       "0            D          0  \n",
       "1            D          0  \n",
       "2            D          0  \n",
       "3            D          0  \n",
       "4            D          0  \n",
       "...        ...        ...  \n",
       "36006        N          0  \n",
       "36007        N          0  \n",
       "36008        N          0  \n",
       "36009        N          0  \n",
       "36010        N          2  \n",
       "\n",
       "[36011 rows x 16 columns]"
      ],
      "text/html": "<div>\n<style scoped>\n    .dataframe tbody tr th:only-of-type {\n        vertical-align: middle;\n    }\n\n    .dataframe tbody tr th {\n        vertical-align: top;\n    }\n\n    .dataframe thead th {\n        text-align: right;\n    }\n</style>\n<table border=\"1\" class=\"dataframe\">\n  <thead>\n    <tr style=\"text-align: right;\">\n      <th></th>\n      <th>fire_id</th>\n      <th>latitude</th>\n      <th>longitude</th>\n      <th>brightness</th>\n      <th>scan</th>\n      <th>track</th>\n      <th>acq_date</th>\n      <th>acq_time</th>\n      <th>satellite</th>\n      <th>instrument</th>\n      <th>confidence</th>\n      <th>version</th>\n      <th>bright_t31</th>\n      <th>frp</th>\n      <th>daynight</th>\n      <th>fire_type</th>\n    </tr>\n  </thead>\n  <tbody>\n    <tr>\n      <th>0</th>\n      <td>0</td>\n      <td>-11.807</td>\n      <td>142.0583</td>\n      <td>313.0</td>\n      <td>1.0</td>\n      <td>1.0</td>\n      <td>2019-08-01</td>\n      <td>56</td>\n      <td>Terra</td>\n      <td>MODIS</td>\n      <td>48</td>\n      <td>6.3</td>\n      <td>297.3</td>\n      <td>6.6</td>\n      <td>D</td>\n      <td>0</td>\n    </tr>\n    <tr>\n      <th>1</th>\n      <td>1</td>\n      <td>-11.7924</td>\n      <td>142.0850</td>\n      <td>319.3</td>\n      <td>1.0</td>\n      <td>1.0</td>\n      <td>2019-08-01</td>\n      <td>56</td>\n      <td>Terra</td>\n      <td>MODIS</td>\n      <td>71</td>\n      <td>6.3</td>\n      <td>297.3</td>\n      <td>11.3</td>\n      <td>D</td>\n      <td>0</td>\n    </tr>\n    <tr>\n      <th>2</th>\n      <td>2</td>\n      <td>-12.8398</td>\n      <td>132.8744</td>\n      <td>311.6</td>\n      <td>3.1</td>\n      <td>1.7</td>\n      <td>2019-08-01</td>\n      <td>57</td>\n      <td>Terra</td>\n      <td>MODIS</td>\n      <td>42</td>\n      <td>6.3</td>\n      <td>298.7</td>\n      <td>23.1</td>\n      <td>D</td>\n      <td>0</td>\n    </tr>\n    <tr>\n      <th>3</th>\n      <td>3</td>\n      <td>-14.4306</td>\n      <td>143.3035</td>\n      <td>310.1</td>\n      <td>1.1</td>\n      <td>1.1</td>\n      <td>2019-08-01</td>\n      <td>57</td>\n      <td>Terra</td>\n      <td>MODIS</td>\n      <td>33</td>\n      <td>6.3</td>\n      <td>296.1</td>\n      <td>6.5</td>\n      <td>D</td>\n      <td>0</td>\n    </tr>\n    <tr>\n      <th>4</th>\n      <td>4</td>\n      <td>-12.4953</td>\n      <td>131.4897</td>\n      <td>310.3</td>\n      <td>4.0</td>\n      <td>1.9</td>\n      <td>2019-08-01</td>\n      <td>57</td>\n      <td>Terra</td>\n      <td>MODIS</td>\n      <td>36</td>\n      <td>6.3</td>\n      <td>298.8</td>\n      <td>27.6</td>\n      <td>D</td>\n      <td>0</td>\n    </tr>\n    <tr>\n      <th>...</th>\n      <td>...</td>\n      <td>...</td>\n      <td>...</td>\n      <td>...</td>\n      <td>...</td>\n      <td>...</td>\n      <td>...</td>\n      <td>...</td>\n      <td>...</td>\n      <td>...</td>\n      <td>...</td>\n      <td>...</td>\n      <td>...</td>\n      <td>...</td>\n      <td>...</td>\n      <td>...</td>\n    </tr>\n    <tr>\n      <th>36006</th>\n      <td>36006</td>\n      <td>-28.0656</td>\n      <td>131.6334</td>\n      <td>312.7</td>\n      <td>1.2</td>\n      <td>1.1</td>\n      <td>2019-09-30</td>\n      <td>1644</td>\n      <td>Aqua</td>\n      <td>MODIS</td>\n      <td>85</td>\n      <td>6.3</td>\n      <td>292.9</td>\n      <td>14.2</td>\n      <td>N</td>\n      <td>0</td>\n    </tr>\n    <tr>\n      <th>36007</th>\n      <td>36007</td>\n      <td>-28.2625</td>\n      <td>128.5494</td>\n      <td>304.9</td>\n      <td>1.0</td>\n      <td>1.0</td>\n      <td>2019-09-30</td>\n      <td>1644</td>\n      <td>Aqua</td>\n      <td>MODIS</td>\n      <td>27</td>\n      <td>6.3</td>\n      <td>290.9</td>\n      <td>6.4</td>\n      <td>N</td>\n      <td>0</td>\n    </tr>\n    <tr>\n      <th>36008</th>\n      <td>36008</td>\n      <td>-28.2941</td>\n      <td>128.5123</td>\n      <td>301.7</td>\n      <td>1.0</td>\n      <td>1.0</td>\n      <td>2019-09-30</td>\n      <td>1644</td>\n      <td>Aqua</td>\n      <td>MODIS</td>\n      <td>43</td>\n      <td>6.3</td>\n      <td>290.4</td>\n      <td>5.5</td>\n      <td>N</td>\n      <td>0</td>\n    </tr>\n    <tr>\n      <th>36009</th>\n      <td>36009</td>\n      <td>-28.3001</td>\n      <td>128.5530</td>\n      <td>303.6</td>\n      <td>1.0</td>\n      <td>1.0</td>\n      <td>2019-09-30</td>\n      <td>1644</td>\n      <td>Aqua</td>\n      <td>MODIS</td>\n      <td>41</td>\n      <td>6.3</td>\n      <td>290.3</td>\n      <td>5.7</td>\n      <td>N</td>\n      <td>0</td>\n    </tr>\n    <tr>\n      <th>36010</th>\n      <td>36010</td>\n      <td>-30.8641</td>\n      <td>121.4995</td>\n      <td>309.1</td>\n      <td>1.8</td>\n      <td>1.3</td>\n      <td>2019-09-30</td>\n      <td>1645</td>\n      <td>Aqua</td>\n      <td>MODIS</td>\n      <td>77</td>\n      <td>6.3</td>\n      <td>290.9</td>\n      <td>23.0</td>\n      <td>N</td>\n      <td>2</td>\n    </tr>\n  </tbody>\n</table>\n<p>36011 rows × 16 columns</p>\n</div>"
     },
     "metadata": {},
     "execution_count": 67
    }
   ],
   "source": [
    "df"
   ]
  },
  {
   "cell_type": "code",
   "execution_count": 68,
   "metadata": {},
   "outputs": [
    {
     "output_type": "execute_result",
     "data": {
      "text/plain": [
       "             fire_id  longitude  brightness      scan     track  acq_time  \\\n",
       "fire_id     1.000000   0.103756    0.158104 -0.004500 -0.005544  0.054372   \n",
       "longitude   0.103756   1.000000   -0.104097 -0.051840 -0.054767  0.116368   \n",
       "brightness  0.158104  -0.104097    1.000000 -0.105940 -0.108572 -0.323271   \n",
       "scan       -0.004500  -0.051840   -0.105940  1.000000  0.982484 -0.026877   \n",
       "track      -0.005544  -0.054767   -0.108572  0.982484  1.000000 -0.024399   \n",
       "acq_time    0.054372   0.116368   -0.323271 -0.026877 -0.024399  1.000000   \n",
       "confidence  0.075489  -0.035529    0.614691 -0.103808 -0.105949 -0.070012   \n",
       "version          NaN        NaN         NaN       NaN       NaN       NaN   \n",
       "bright_t31  0.097194  -0.380406    0.606844 -0.094356 -0.092064 -0.552448   \n",
       "frp         0.094743   0.000449    0.661131  0.292117  0.286563 -0.073658   \n",
       "fire_type  -0.004516   0.005580   -0.054160 -0.024130 -0.024460  0.007624   \n",
       "\n",
       "            confidence  version  bright_t31       frp  fire_type  \n",
       "fire_id       0.075489      NaN    0.097194  0.094743  -0.004516  \n",
       "longitude    -0.035529      NaN   -0.380406  0.000449   0.005580  \n",
       "brightness    0.614691      NaN    0.606844  0.661131  -0.054160  \n",
       "scan         -0.103808      NaN   -0.094356  0.292117  -0.024130  \n",
       "track        -0.105949      NaN   -0.092064  0.286563  -0.024460  \n",
       "acq_time     -0.070012      NaN   -0.552448 -0.073658   0.007624  \n",
       "confidence    1.000000      NaN    0.238506  0.355388  -0.041632  \n",
       "version            NaN      NaN         NaN       NaN        NaN  \n",
       "bright_t31    0.238506      NaN    1.000000  0.216824  -0.054393  \n",
       "frp           0.355388      NaN    0.216824  1.000000  -0.026688  \n",
       "fire_type    -0.041632      NaN   -0.054393 -0.026688   1.000000  "
      ],
      "text/html": "<div>\n<style scoped>\n    .dataframe tbody tr th:only-of-type {\n        vertical-align: middle;\n    }\n\n    .dataframe tbody tr th {\n        vertical-align: top;\n    }\n\n    .dataframe thead th {\n        text-align: right;\n    }\n</style>\n<table border=\"1\" class=\"dataframe\">\n  <thead>\n    <tr style=\"text-align: right;\">\n      <th></th>\n      <th>fire_id</th>\n      <th>longitude</th>\n      <th>brightness</th>\n      <th>scan</th>\n      <th>track</th>\n      <th>acq_time</th>\n      <th>confidence</th>\n      <th>version</th>\n      <th>bright_t31</th>\n      <th>frp</th>\n      <th>fire_type</th>\n    </tr>\n  </thead>\n  <tbody>\n    <tr>\n      <th>fire_id</th>\n      <td>1.000000</td>\n      <td>0.103756</td>\n      <td>0.158104</td>\n      <td>-0.004500</td>\n      <td>-0.005544</td>\n      <td>0.054372</td>\n      <td>0.075489</td>\n      <td>NaN</td>\n      <td>0.097194</td>\n      <td>0.094743</td>\n      <td>-0.004516</td>\n    </tr>\n    <tr>\n      <th>longitude</th>\n      <td>0.103756</td>\n      <td>1.000000</td>\n      <td>-0.104097</td>\n      <td>-0.051840</td>\n      <td>-0.054767</td>\n      <td>0.116368</td>\n      <td>-0.035529</td>\n      <td>NaN</td>\n      <td>-0.380406</td>\n      <td>0.000449</td>\n      <td>0.005580</td>\n    </tr>\n    <tr>\n      <th>brightness</th>\n      <td>0.158104</td>\n      <td>-0.104097</td>\n      <td>1.000000</td>\n      <td>-0.105940</td>\n      <td>-0.108572</td>\n      <td>-0.323271</td>\n      <td>0.614691</td>\n      <td>NaN</td>\n      <td>0.606844</td>\n      <td>0.661131</td>\n      <td>-0.054160</td>\n    </tr>\n    <tr>\n      <th>scan</th>\n      <td>-0.004500</td>\n      <td>-0.051840</td>\n      <td>-0.105940</td>\n      <td>1.000000</td>\n      <td>0.982484</td>\n      <td>-0.026877</td>\n      <td>-0.103808</td>\n      <td>NaN</td>\n      <td>-0.094356</td>\n      <td>0.292117</td>\n      <td>-0.024130</td>\n    </tr>\n    <tr>\n      <th>track</th>\n      <td>-0.005544</td>\n      <td>-0.054767</td>\n      <td>-0.108572</td>\n      <td>0.982484</td>\n      <td>1.000000</td>\n      <td>-0.024399</td>\n      <td>-0.105949</td>\n      <td>NaN</td>\n      <td>-0.092064</td>\n      <td>0.286563</td>\n      <td>-0.024460</td>\n    </tr>\n    <tr>\n      <th>acq_time</th>\n      <td>0.054372</td>\n      <td>0.116368</td>\n      <td>-0.323271</td>\n      <td>-0.026877</td>\n      <td>-0.024399</td>\n      <td>1.000000</td>\n      <td>-0.070012</td>\n      <td>NaN</td>\n      <td>-0.552448</td>\n      <td>-0.073658</td>\n      <td>0.007624</td>\n    </tr>\n    <tr>\n      <th>confidence</th>\n      <td>0.075489</td>\n      <td>-0.035529</td>\n      <td>0.614691</td>\n      <td>-0.103808</td>\n      <td>-0.105949</td>\n      <td>-0.070012</td>\n      <td>1.000000</td>\n      <td>NaN</td>\n      <td>0.238506</td>\n      <td>0.355388</td>\n      <td>-0.041632</td>\n    </tr>\n    <tr>\n      <th>version</th>\n      <td>NaN</td>\n      <td>NaN</td>\n      <td>NaN</td>\n      <td>NaN</td>\n      <td>NaN</td>\n      <td>NaN</td>\n      <td>NaN</td>\n      <td>NaN</td>\n      <td>NaN</td>\n      <td>NaN</td>\n      <td>NaN</td>\n    </tr>\n    <tr>\n      <th>bright_t31</th>\n      <td>0.097194</td>\n      <td>-0.380406</td>\n      <td>0.606844</td>\n      <td>-0.094356</td>\n      <td>-0.092064</td>\n      <td>-0.552448</td>\n      <td>0.238506</td>\n      <td>NaN</td>\n      <td>1.000000</td>\n      <td>0.216824</td>\n      <td>-0.054393</td>\n    </tr>\n    <tr>\n      <th>frp</th>\n      <td>0.094743</td>\n      <td>0.000449</td>\n      <td>0.661131</td>\n      <td>0.292117</td>\n      <td>0.286563</td>\n      <td>-0.073658</td>\n      <td>0.355388</td>\n      <td>NaN</td>\n      <td>0.216824</td>\n      <td>1.000000</td>\n      <td>-0.026688</td>\n    </tr>\n    <tr>\n      <th>fire_type</th>\n      <td>-0.004516</td>\n      <td>0.005580</td>\n      <td>-0.054160</td>\n      <td>-0.024130</td>\n      <td>-0.024460</td>\n      <td>0.007624</td>\n      <td>-0.041632</td>\n      <td>NaN</td>\n      <td>-0.054393</td>\n      <td>-0.026688</td>\n      <td>1.000000</td>\n    </tr>\n  </tbody>\n</table>\n</div>"
     },
     "metadata": {},
     "execution_count": 68
    }
   ],
   "source": [
    "df.corr()"
   ]
  },
  {
   "cell_type": "code",
   "execution_count": 69,
   "metadata": {},
   "outputs": [],
   "source": [
    "df.drop(['version', 'instrument', 'fire_id'], axis=1, inplace=True)"
   ]
  },
  {
   "cell_type": "code",
   "execution_count": 70,
   "metadata": {},
   "outputs": [
    {
     "output_type": "execute_result",
     "data": {
      "text/plain": [
       "       latitude  longitude  brightness  scan  track    acq_date  acq_time  \\\n",
       "0       -11.807   142.0583       313.0   1.0    1.0  2019-08-01        56   \n",
       "1      -11.7924   142.0850       319.3   1.0    1.0  2019-08-01        56   \n",
       "2      -12.8398   132.8744       311.6   3.1    1.7  2019-08-01        57   \n",
       "3      -14.4306   143.3035       310.1   1.1    1.1  2019-08-01        57   \n",
       "4      -12.4953   131.4897       310.3   4.0    1.9  2019-08-01        57   \n",
       "...         ...        ...         ...   ...    ...         ...       ...   \n",
       "36006  -28.0656   131.6334       312.7   1.2    1.1  2019-09-30      1644   \n",
       "36007  -28.2625   128.5494       304.9   1.0    1.0  2019-09-30      1644   \n",
       "36008  -28.2941   128.5123       301.7   1.0    1.0  2019-09-30      1644   \n",
       "36009  -28.3001   128.5530       303.6   1.0    1.0  2019-09-30      1644   \n",
       "36010  -30.8641   121.4995       309.1   1.8    1.3  2019-09-30      1645   \n",
       "\n",
       "      satellite  confidence  bright_t31   frp daynight  fire_type  \n",
       "0         Terra          48       297.3   6.6        D          0  \n",
       "1         Terra          71       297.3  11.3        D          0  \n",
       "2         Terra          42       298.7  23.1        D          0  \n",
       "3         Terra          33       296.1   6.5        D          0  \n",
       "4         Terra          36       298.8  27.6        D          0  \n",
       "...         ...         ...         ...   ...      ...        ...  \n",
       "36006      Aqua          85       292.9  14.2        N          0  \n",
       "36007      Aqua          27       290.9   6.4        N          0  \n",
       "36008      Aqua          43       290.4   5.5        N          0  \n",
       "36009      Aqua          41       290.3   5.7        N          0  \n",
       "36010      Aqua          77       290.9  23.0        N          2  \n",
       "\n",
       "[36011 rows x 13 columns]"
      ],
      "text/html": "<div>\n<style scoped>\n    .dataframe tbody tr th:only-of-type {\n        vertical-align: middle;\n    }\n\n    .dataframe tbody tr th {\n        vertical-align: top;\n    }\n\n    .dataframe thead th {\n        text-align: right;\n    }\n</style>\n<table border=\"1\" class=\"dataframe\">\n  <thead>\n    <tr style=\"text-align: right;\">\n      <th></th>\n      <th>latitude</th>\n      <th>longitude</th>\n      <th>brightness</th>\n      <th>scan</th>\n      <th>track</th>\n      <th>acq_date</th>\n      <th>acq_time</th>\n      <th>satellite</th>\n      <th>confidence</th>\n      <th>bright_t31</th>\n      <th>frp</th>\n      <th>daynight</th>\n      <th>fire_type</th>\n    </tr>\n  </thead>\n  <tbody>\n    <tr>\n      <th>0</th>\n      <td>-11.807</td>\n      <td>142.0583</td>\n      <td>313.0</td>\n      <td>1.0</td>\n      <td>1.0</td>\n      <td>2019-08-01</td>\n      <td>56</td>\n      <td>Terra</td>\n      <td>48</td>\n      <td>297.3</td>\n      <td>6.6</td>\n      <td>D</td>\n      <td>0</td>\n    </tr>\n    <tr>\n      <th>1</th>\n      <td>-11.7924</td>\n      <td>142.0850</td>\n      <td>319.3</td>\n      <td>1.0</td>\n      <td>1.0</td>\n      <td>2019-08-01</td>\n      <td>56</td>\n      <td>Terra</td>\n      <td>71</td>\n      <td>297.3</td>\n      <td>11.3</td>\n      <td>D</td>\n      <td>0</td>\n    </tr>\n    <tr>\n      <th>2</th>\n      <td>-12.8398</td>\n      <td>132.8744</td>\n      <td>311.6</td>\n      <td>3.1</td>\n      <td>1.7</td>\n      <td>2019-08-01</td>\n      <td>57</td>\n      <td>Terra</td>\n      <td>42</td>\n      <td>298.7</td>\n      <td>23.1</td>\n      <td>D</td>\n      <td>0</td>\n    </tr>\n    <tr>\n      <th>3</th>\n      <td>-14.4306</td>\n      <td>143.3035</td>\n      <td>310.1</td>\n      <td>1.1</td>\n      <td>1.1</td>\n      <td>2019-08-01</td>\n      <td>57</td>\n      <td>Terra</td>\n      <td>33</td>\n      <td>296.1</td>\n      <td>6.5</td>\n      <td>D</td>\n      <td>0</td>\n    </tr>\n    <tr>\n      <th>4</th>\n      <td>-12.4953</td>\n      <td>131.4897</td>\n      <td>310.3</td>\n      <td>4.0</td>\n      <td>1.9</td>\n      <td>2019-08-01</td>\n      <td>57</td>\n      <td>Terra</td>\n      <td>36</td>\n      <td>298.8</td>\n      <td>27.6</td>\n      <td>D</td>\n      <td>0</td>\n    </tr>\n    <tr>\n      <th>...</th>\n      <td>...</td>\n      <td>...</td>\n      <td>...</td>\n      <td>...</td>\n      <td>...</td>\n      <td>...</td>\n      <td>...</td>\n      <td>...</td>\n      <td>...</td>\n      <td>...</td>\n      <td>...</td>\n      <td>...</td>\n      <td>...</td>\n    </tr>\n    <tr>\n      <th>36006</th>\n      <td>-28.0656</td>\n      <td>131.6334</td>\n      <td>312.7</td>\n      <td>1.2</td>\n      <td>1.1</td>\n      <td>2019-09-30</td>\n      <td>1644</td>\n      <td>Aqua</td>\n      <td>85</td>\n      <td>292.9</td>\n      <td>14.2</td>\n      <td>N</td>\n      <td>0</td>\n    </tr>\n    <tr>\n      <th>36007</th>\n      <td>-28.2625</td>\n      <td>128.5494</td>\n      <td>304.9</td>\n      <td>1.0</td>\n      <td>1.0</td>\n      <td>2019-09-30</td>\n      <td>1644</td>\n      <td>Aqua</td>\n      <td>27</td>\n      <td>290.9</td>\n      <td>6.4</td>\n      <td>N</td>\n      <td>0</td>\n    </tr>\n    <tr>\n      <th>36008</th>\n      <td>-28.2941</td>\n      <td>128.5123</td>\n      <td>301.7</td>\n      <td>1.0</td>\n      <td>1.0</td>\n      <td>2019-09-30</td>\n      <td>1644</td>\n      <td>Aqua</td>\n      <td>43</td>\n      <td>290.4</td>\n      <td>5.5</td>\n      <td>N</td>\n      <td>0</td>\n    </tr>\n    <tr>\n      <th>36009</th>\n      <td>-28.3001</td>\n      <td>128.5530</td>\n      <td>303.6</td>\n      <td>1.0</td>\n      <td>1.0</td>\n      <td>2019-09-30</td>\n      <td>1644</td>\n      <td>Aqua</td>\n      <td>41</td>\n      <td>290.3</td>\n      <td>5.7</td>\n      <td>N</td>\n      <td>0</td>\n    </tr>\n    <tr>\n      <th>36010</th>\n      <td>-30.8641</td>\n      <td>121.4995</td>\n      <td>309.1</td>\n      <td>1.8</td>\n      <td>1.3</td>\n      <td>2019-09-30</td>\n      <td>1645</td>\n      <td>Aqua</td>\n      <td>77</td>\n      <td>290.9</td>\n      <td>23.0</td>\n      <td>N</td>\n      <td>2</td>\n    </tr>\n  </tbody>\n</table>\n<p>36011 rows × 13 columns</p>\n</div>"
     },
     "metadata": {},
     "execution_count": 70
    }
   ],
   "source": [
    "df"
   ]
  },
  {
   "cell_type": "code",
   "execution_count": 33,
   "metadata": {},
   "outputs": [
    {
     "output_type": "execute_result",
     "data": {
      "text/plain": [
       "             fire_id  longitude  brightness      scan     track  acq_time  \\\n",
       "fire_id     1.000000   0.103756    0.158104 -0.004500 -0.005544  0.054372   \n",
       "longitude   0.103756   1.000000   -0.104097 -0.051840 -0.054767  0.116368   \n",
       "brightness  0.158104  -0.104097    1.000000 -0.105940 -0.108572 -0.323271   \n",
       "scan       -0.004500  -0.051840   -0.105940  1.000000  0.982484 -0.026877   \n",
       "track      -0.005544  -0.054767   -0.108572  0.982484  1.000000 -0.024399   \n",
       "acq_time    0.054372   0.116368   -0.323271 -0.026877 -0.024399  1.000000   \n",
       "confidence  0.075489  -0.035529    0.614691 -0.103808 -0.105949 -0.070012   \n",
       "bright_t31  0.097194  -0.380406    0.606844 -0.094356 -0.092064 -0.552448   \n",
       "frp         0.094743   0.000449    0.661131  0.292117  0.286563 -0.073658   \n",
       "fire_type  -0.004516   0.005580   -0.054160 -0.024130 -0.024460  0.007624   \n",
       "\n",
       "            confidence  bright_t31       frp  fire_type  \n",
       "fire_id       0.075489    0.097194  0.094743  -0.004516  \n",
       "longitude    -0.035529   -0.380406  0.000449   0.005580  \n",
       "brightness    0.614691    0.606844  0.661131  -0.054160  \n",
       "scan         -0.103808   -0.094356  0.292117  -0.024130  \n",
       "track        -0.105949   -0.092064  0.286563  -0.024460  \n",
       "acq_time     -0.070012   -0.552448 -0.073658   0.007624  \n",
       "confidence    1.000000    0.238506  0.355388  -0.041632  \n",
       "bright_t31    0.238506    1.000000  0.216824  -0.054393  \n",
       "frp           0.355388    0.216824  1.000000  -0.026688  \n",
       "fire_type    -0.041632   -0.054393 -0.026688   1.000000  "
      ],
      "text/html": "<div>\n<style scoped>\n    .dataframe tbody tr th:only-of-type {\n        vertical-align: middle;\n    }\n\n    .dataframe tbody tr th {\n        vertical-align: top;\n    }\n\n    .dataframe thead th {\n        text-align: right;\n    }\n</style>\n<table border=\"1\" class=\"dataframe\">\n  <thead>\n    <tr style=\"text-align: right;\">\n      <th></th>\n      <th>fire_id</th>\n      <th>longitude</th>\n      <th>brightness</th>\n      <th>scan</th>\n      <th>track</th>\n      <th>acq_time</th>\n      <th>confidence</th>\n      <th>bright_t31</th>\n      <th>frp</th>\n      <th>fire_type</th>\n    </tr>\n  </thead>\n  <tbody>\n    <tr>\n      <th>fire_id</th>\n      <td>1.000000</td>\n      <td>0.103756</td>\n      <td>0.158104</td>\n      <td>-0.004500</td>\n      <td>-0.005544</td>\n      <td>0.054372</td>\n      <td>0.075489</td>\n      <td>0.097194</td>\n      <td>0.094743</td>\n      <td>-0.004516</td>\n    </tr>\n    <tr>\n      <th>longitude</th>\n      <td>0.103756</td>\n      <td>1.000000</td>\n      <td>-0.104097</td>\n      <td>-0.051840</td>\n      <td>-0.054767</td>\n      <td>0.116368</td>\n      <td>-0.035529</td>\n      <td>-0.380406</td>\n      <td>0.000449</td>\n      <td>0.005580</td>\n    </tr>\n    <tr>\n      <th>brightness</th>\n      <td>0.158104</td>\n      <td>-0.104097</td>\n      <td>1.000000</td>\n      <td>-0.105940</td>\n      <td>-0.108572</td>\n      <td>-0.323271</td>\n      <td>0.614691</td>\n      <td>0.606844</td>\n      <td>0.661131</td>\n      <td>-0.054160</td>\n    </tr>\n    <tr>\n      <th>scan</th>\n      <td>-0.004500</td>\n      <td>-0.051840</td>\n      <td>-0.105940</td>\n      <td>1.000000</td>\n      <td>0.982484</td>\n      <td>-0.026877</td>\n      <td>-0.103808</td>\n      <td>-0.094356</td>\n      <td>0.292117</td>\n      <td>-0.024130</td>\n    </tr>\n    <tr>\n      <th>track</th>\n      <td>-0.005544</td>\n      <td>-0.054767</td>\n      <td>-0.108572</td>\n      <td>0.982484</td>\n      <td>1.000000</td>\n      <td>-0.024399</td>\n      <td>-0.105949</td>\n      <td>-0.092064</td>\n      <td>0.286563</td>\n      <td>-0.024460</td>\n    </tr>\n    <tr>\n      <th>acq_time</th>\n      <td>0.054372</td>\n      <td>0.116368</td>\n      <td>-0.323271</td>\n      <td>-0.026877</td>\n      <td>-0.024399</td>\n      <td>1.000000</td>\n      <td>-0.070012</td>\n      <td>-0.552448</td>\n      <td>-0.073658</td>\n      <td>0.007624</td>\n    </tr>\n    <tr>\n      <th>confidence</th>\n      <td>0.075489</td>\n      <td>-0.035529</td>\n      <td>0.614691</td>\n      <td>-0.103808</td>\n      <td>-0.105949</td>\n      <td>-0.070012</td>\n      <td>1.000000</td>\n      <td>0.238506</td>\n      <td>0.355388</td>\n      <td>-0.041632</td>\n    </tr>\n    <tr>\n      <th>bright_t31</th>\n      <td>0.097194</td>\n      <td>-0.380406</td>\n      <td>0.606844</td>\n      <td>-0.094356</td>\n      <td>-0.092064</td>\n      <td>-0.552448</td>\n      <td>0.238506</td>\n      <td>1.000000</td>\n      <td>0.216824</td>\n      <td>-0.054393</td>\n    </tr>\n    <tr>\n      <th>frp</th>\n      <td>0.094743</td>\n      <td>0.000449</td>\n      <td>0.661131</td>\n      <td>0.292117</td>\n      <td>0.286563</td>\n      <td>-0.073658</td>\n      <td>0.355388</td>\n      <td>0.216824</td>\n      <td>1.000000</td>\n      <td>-0.026688</td>\n    </tr>\n    <tr>\n      <th>fire_type</th>\n      <td>-0.004516</td>\n      <td>0.005580</td>\n      <td>-0.054160</td>\n      <td>-0.024130</td>\n      <td>-0.024460</td>\n      <td>0.007624</td>\n      <td>-0.041632</td>\n      <td>-0.054393</td>\n      <td>-0.026688</td>\n      <td>1.000000</td>\n    </tr>\n  </tbody>\n</table>\n</div>"
     },
     "metadata": {},
     "execution_count": 33
    }
   ],
   "source": []
  },
  {
   "cell_type": "code",
   "execution_count": 71,
   "metadata": {},
   "outputs": [],
   "source": [
    "le = LabelEncoder()\n",
    "df[\"satellite\"] = le.fit_transform(df[\"satellite\"])\n",
    "df[\"daynight\"] = le.fit_transform(df[\"daynight\"])"
   ]
  },
  {
   "cell_type": "code",
   "execution_count": 72,
   "metadata": {},
   "outputs": [
    {
     "output_type": "execute_result",
     "data": {
      "text/plain": [
       "       latitude  longitude  brightness  scan  track    acq_date  acq_time  \\\n",
       "0       -11.807   142.0583       313.0   1.0    1.0  2019-08-01        56   \n",
       "1      -11.7924   142.0850       319.3   1.0    1.0  2019-08-01        56   \n",
       "2      -12.8398   132.8744       311.6   3.1    1.7  2019-08-01        57   \n",
       "3      -14.4306   143.3035       310.1   1.1    1.1  2019-08-01        57   \n",
       "4      -12.4953   131.4897       310.3   4.0    1.9  2019-08-01        57   \n",
       "...         ...        ...         ...   ...    ...         ...       ...   \n",
       "36006  -28.0656   131.6334       312.7   1.2    1.1  2019-09-30      1644   \n",
       "36007  -28.2625   128.5494       304.9   1.0    1.0  2019-09-30      1644   \n",
       "36008  -28.2941   128.5123       301.7   1.0    1.0  2019-09-30      1644   \n",
       "36009  -28.3001   128.5530       303.6   1.0    1.0  2019-09-30      1644   \n",
       "36010  -30.8641   121.4995       309.1   1.8    1.3  2019-09-30      1645   \n",
       "\n",
       "       satellite  confidence  bright_t31   frp  daynight  fire_type  \n",
       "0              1          48       297.3   6.6         0          0  \n",
       "1              1          71       297.3  11.3         0          0  \n",
       "2              1          42       298.7  23.1         0          0  \n",
       "3              1          33       296.1   6.5         0          0  \n",
       "4              1          36       298.8  27.6         0          0  \n",
       "...          ...         ...         ...   ...       ...        ...  \n",
       "36006          0          85       292.9  14.2         1          0  \n",
       "36007          0          27       290.9   6.4         1          0  \n",
       "36008          0          43       290.4   5.5         1          0  \n",
       "36009          0          41       290.3   5.7         1          0  \n",
       "36010          0          77       290.9  23.0         1          2  \n",
       "\n",
       "[36011 rows x 13 columns]"
      ],
      "text/html": "<div>\n<style scoped>\n    .dataframe tbody tr th:only-of-type {\n        vertical-align: middle;\n    }\n\n    .dataframe tbody tr th {\n        vertical-align: top;\n    }\n\n    .dataframe thead th {\n        text-align: right;\n    }\n</style>\n<table border=\"1\" class=\"dataframe\">\n  <thead>\n    <tr style=\"text-align: right;\">\n      <th></th>\n      <th>latitude</th>\n      <th>longitude</th>\n      <th>brightness</th>\n      <th>scan</th>\n      <th>track</th>\n      <th>acq_date</th>\n      <th>acq_time</th>\n      <th>satellite</th>\n      <th>confidence</th>\n      <th>bright_t31</th>\n      <th>frp</th>\n      <th>daynight</th>\n      <th>fire_type</th>\n    </tr>\n  </thead>\n  <tbody>\n    <tr>\n      <th>0</th>\n      <td>-11.807</td>\n      <td>142.0583</td>\n      <td>313.0</td>\n      <td>1.0</td>\n      <td>1.0</td>\n      <td>2019-08-01</td>\n      <td>56</td>\n      <td>1</td>\n      <td>48</td>\n      <td>297.3</td>\n      <td>6.6</td>\n      <td>0</td>\n      <td>0</td>\n    </tr>\n    <tr>\n      <th>1</th>\n      <td>-11.7924</td>\n      <td>142.0850</td>\n      <td>319.3</td>\n      <td>1.0</td>\n      <td>1.0</td>\n      <td>2019-08-01</td>\n      <td>56</td>\n      <td>1</td>\n      <td>71</td>\n      <td>297.3</td>\n      <td>11.3</td>\n      <td>0</td>\n      <td>0</td>\n    </tr>\n    <tr>\n      <th>2</th>\n      <td>-12.8398</td>\n      <td>132.8744</td>\n      <td>311.6</td>\n      <td>3.1</td>\n      <td>1.7</td>\n      <td>2019-08-01</td>\n      <td>57</td>\n      <td>1</td>\n      <td>42</td>\n      <td>298.7</td>\n      <td>23.1</td>\n      <td>0</td>\n      <td>0</td>\n    </tr>\n    <tr>\n      <th>3</th>\n      <td>-14.4306</td>\n      <td>143.3035</td>\n      <td>310.1</td>\n      <td>1.1</td>\n      <td>1.1</td>\n      <td>2019-08-01</td>\n      <td>57</td>\n      <td>1</td>\n      <td>33</td>\n      <td>296.1</td>\n      <td>6.5</td>\n      <td>0</td>\n      <td>0</td>\n    </tr>\n    <tr>\n      <th>4</th>\n      <td>-12.4953</td>\n      <td>131.4897</td>\n      <td>310.3</td>\n      <td>4.0</td>\n      <td>1.9</td>\n      <td>2019-08-01</td>\n      <td>57</td>\n      <td>1</td>\n      <td>36</td>\n      <td>298.8</td>\n      <td>27.6</td>\n      <td>0</td>\n      <td>0</td>\n    </tr>\n    <tr>\n      <th>...</th>\n      <td>...</td>\n      <td>...</td>\n      <td>...</td>\n      <td>...</td>\n      <td>...</td>\n      <td>...</td>\n      <td>...</td>\n      <td>...</td>\n      <td>...</td>\n      <td>...</td>\n      <td>...</td>\n      <td>...</td>\n      <td>...</td>\n    </tr>\n    <tr>\n      <th>36006</th>\n      <td>-28.0656</td>\n      <td>131.6334</td>\n      <td>312.7</td>\n      <td>1.2</td>\n      <td>1.1</td>\n      <td>2019-09-30</td>\n      <td>1644</td>\n      <td>0</td>\n      <td>85</td>\n      <td>292.9</td>\n      <td>14.2</td>\n      <td>1</td>\n      <td>0</td>\n    </tr>\n    <tr>\n      <th>36007</th>\n      <td>-28.2625</td>\n      <td>128.5494</td>\n      <td>304.9</td>\n      <td>1.0</td>\n      <td>1.0</td>\n      <td>2019-09-30</td>\n      <td>1644</td>\n      <td>0</td>\n      <td>27</td>\n      <td>290.9</td>\n      <td>6.4</td>\n      <td>1</td>\n      <td>0</td>\n    </tr>\n    <tr>\n      <th>36008</th>\n      <td>-28.2941</td>\n      <td>128.5123</td>\n      <td>301.7</td>\n      <td>1.0</td>\n      <td>1.0</td>\n      <td>2019-09-30</td>\n      <td>1644</td>\n      <td>0</td>\n      <td>43</td>\n      <td>290.4</td>\n      <td>5.5</td>\n      <td>1</td>\n      <td>0</td>\n    </tr>\n    <tr>\n      <th>36009</th>\n      <td>-28.3001</td>\n      <td>128.5530</td>\n      <td>303.6</td>\n      <td>1.0</td>\n      <td>1.0</td>\n      <td>2019-09-30</td>\n      <td>1644</td>\n      <td>0</td>\n      <td>41</td>\n      <td>290.3</td>\n      <td>5.7</td>\n      <td>1</td>\n      <td>0</td>\n    </tr>\n    <tr>\n      <th>36010</th>\n      <td>-30.8641</td>\n      <td>121.4995</td>\n      <td>309.1</td>\n      <td>1.8</td>\n      <td>1.3</td>\n      <td>2019-09-30</td>\n      <td>1645</td>\n      <td>0</td>\n      <td>77</td>\n      <td>290.9</td>\n      <td>23.0</td>\n      <td>1</td>\n      <td>2</td>\n    </tr>\n  </tbody>\n</table>\n<p>36011 rows × 13 columns</p>\n</div>"
     },
     "metadata": {},
     "execution_count": 72
    }
   ],
   "source": [
    "df"
   ]
  },
  {
   "cell_type": "code",
   "execution_count": 73,
   "metadata": {},
   "outputs": [],
   "source": [
    "features = ['latitude', 'longitude', 'brightness', 'scan', 'track', 'acq_time', 'confidence', 'bright_t31', 'frp']\n",
    "# Separating out the features\n",
    "x = df.loc[:, features].values\n",
    "# Separating out the target\n",
    "y = df.loc[:,['fire_type']].values\n",
    "# Standardizing the features\n",
    "x = StandardScaler().fit_transform(x)"
   ]
  },
  {
   "cell_type": "code",
   "execution_count": 78,
   "metadata": {},
   "outputs": [],
   "source": [
    "df[features] = x"
   ]
  },
  {
   "cell_type": "code",
   "execution_count": 79,
   "metadata": {},
   "outputs": [
    {
     "output_type": "execute_result",
     "data": {
      "text/plain": [
       "       brightness      scan     track  acq_time  satellite  confidence  \\\n",
       "0       -0.829309 -0.763014 -0.868600 -0.992093          1   -0.843473   \n",
       "1       -0.497600 -0.763014 -0.868600 -0.992093          1    0.148778   \n",
       "2       -0.903023  1.817623  1.955703 -0.990270          1   -1.102321   \n",
       "3       -0.982001 -0.640127 -0.465128 -0.990270          1   -1.490593   \n",
       "4       -0.971470  2.923610  2.762646 -0.990270          1   -1.361169   \n",
       "...           ...       ...       ...       ...        ...         ...   \n",
       "36006   -0.845105 -0.517239 -0.465128  1.903807          0    0.752757   \n",
       "36007   -1.255793 -0.763014 -0.868600  1.903807          0   -1.749441   \n",
       "36008   -1.424280 -0.763014 -0.868600  1.903807          0   -1.059180   \n",
       "36009   -1.324240 -0.763014 -0.868600  1.903807          0   -1.145462   \n",
       "36010   -1.034653  0.220086  0.341815  1.905630          0    0.407626   \n",
       "\n",
       "       bright_t31       frp  daynight  fire_type  latitude  longitude  \n",
       "0       -0.415364 -0.482583         0          0  1.003893   0.337627  \n",
       "1       -0.415364 -0.431650         0          0  1.005902   0.340510  \n",
       "2       -0.271395 -0.303777         0          0  0.861745  -0.654019  \n",
       "3       -0.538766 -0.483666         0          0  0.642798   0.472079  \n",
       "4       -0.261112 -0.255012         0          0  0.909160  -0.803534  \n",
       "...           ...       ...       ...        ...       ...        ...  \n",
       "36006   -0.867838 -0.400224         1          0 -1.233834  -0.788018  \n",
       "36007   -1.073508 -0.484750         1          0 -1.260934  -1.121017  \n",
       "36008   -1.124925 -0.494503         1          0 -1.265283  -1.125023  \n",
       "36009   -1.135208 -0.492336         1          0 -1.266109  -1.120629  \n",
       "36010   -1.073508 -0.304861         1          2 -1.619001  -1.882241  \n",
       "\n",
       "[36011 rows x 12 columns]"
      ],
      "text/html": "<div>\n<style scoped>\n    .dataframe tbody tr th:only-of-type {\n        vertical-align: middle;\n    }\n\n    .dataframe tbody tr th {\n        vertical-align: top;\n    }\n\n    .dataframe thead th {\n        text-align: right;\n    }\n</style>\n<table border=\"1\" class=\"dataframe\">\n  <thead>\n    <tr style=\"text-align: right;\">\n      <th></th>\n      <th>brightness</th>\n      <th>scan</th>\n      <th>track</th>\n      <th>acq_time</th>\n      <th>satellite</th>\n      <th>confidence</th>\n      <th>bright_t31</th>\n      <th>frp</th>\n      <th>daynight</th>\n      <th>fire_type</th>\n      <th>latitude</th>\n      <th>longitude</th>\n    </tr>\n  </thead>\n  <tbody>\n    <tr>\n      <th>0</th>\n      <td>-0.829309</td>\n      <td>-0.763014</td>\n      <td>-0.868600</td>\n      <td>-0.992093</td>\n      <td>1</td>\n      <td>-0.843473</td>\n      <td>-0.415364</td>\n      <td>-0.482583</td>\n      <td>0</td>\n      <td>0</td>\n      <td>1.003893</td>\n      <td>0.337627</td>\n    </tr>\n    <tr>\n      <th>1</th>\n      <td>-0.497600</td>\n      <td>-0.763014</td>\n      <td>-0.868600</td>\n      <td>-0.992093</td>\n      <td>1</td>\n      <td>0.148778</td>\n      <td>-0.415364</td>\n      <td>-0.431650</td>\n      <td>0</td>\n      <td>0</td>\n      <td>1.005902</td>\n      <td>0.340510</td>\n    </tr>\n    <tr>\n      <th>2</th>\n      <td>-0.903023</td>\n      <td>1.817623</td>\n      <td>1.955703</td>\n      <td>-0.990270</td>\n      <td>1</td>\n      <td>-1.102321</td>\n      <td>-0.271395</td>\n      <td>-0.303777</td>\n      <td>0</td>\n      <td>0</td>\n      <td>0.861745</td>\n      <td>-0.654019</td>\n    </tr>\n    <tr>\n      <th>3</th>\n      <td>-0.982001</td>\n      <td>-0.640127</td>\n      <td>-0.465128</td>\n      <td>-0.990270</td>\n      <td>1</td>\n      <td>-1.490593</td>\n      <td>-0.538766</td>\n      <td>-0.483666</td>\n      <td>0</td>\n      <td>0</td>\n      <td>0.642798</td>\n      <td>0.472079</td>\n    </tr>\n    <tr>\n      <th>4</th>\n      <td>-0.971470</td>\n      <td>2.923610</td>\n      <td>2.762646</td>\n      <td>-0.990270</td>\n      <td>1</td>\n      <td>-1.361169</td>\n      <td>-0.261112</td>\n      <td>-0.255012</td>\n      <td>0</td>\n      <td>0</td>\n      <td>0.909160</td>\n      <td>-0.803534</td>\n    </tr>\n    <tr>\n      <th>...</th>\n      <td>...</td>\n      <td>...</td>\n      <td>...</td>\n      <td>...</td>\n      <td>...</td>\n      <td>...</td>\n      <td>...</td>\n      <td>...</td>\n      <td>...</td>\n      <td>...</td>\n      <td>...</td>\n      <td>...</td>\n    </tr>\n    <tr>\n      <th>36006</th>\n      <td>-0.845105</td>\n      <td>-0.517239</td>\n      <td>-0.465128</td>\n      <td>1.903807</td>\n      <td>0</td>\n      <td>0.752757</td>\n      <td>-0.867838</td>\n      <td>-0.400224</td>\n      <td>1</td>\n      <td>0</td>\n      <td>-1.233834</td>\n      <td>-0.788018</td>\n    </tr>\n    <tr>\n      <th>36007</th>\n      <td>-1.255793</td>\n      <td>-0.763014</td>\n      <td>-0.868600</td>\n      <td>1.903807</td>\n      <td>0</td>\n      <td>-1.749441</td>\n      <td>-1.073508</td>\n      <td>-0.484750</td>\n      <td>1</td>\n      <td>0</td>\n      <td>-1.260934</td>\n      <td>-1.121017</td>\n    </tr>\n    <tr>\n      <th>36008</th>\n      <td>-1.424280</td>\n      <td>-0.763014</td>\n      <td>-0.868600</td>\n      <td>1.903807</td>\n      <td>0</td>\n      <td>-1.059180</td>\n      <td>-1.124925</td>\n      <td>-0.494503</td>\n      <td>1</td>\n      <td>0</td>\n      <td>-1.265283</td>\n      <td>-1.125023</td>\n    </tr>\n    <tr>\n      <th>36009</th>\n      <td>-1.324240</td>\n      <td>-0.763014</td>\n      <td>-0.868600</td>\n      <td>1.903807</td>\n      <td>0</td>\n      <td>-1.145462</td>\n      <td>-1.135208</td>\n      <td>-0.492336</td>\n      <td>1</td>\n      <td>0</td>\n      <td>-1.266109</td>\n      <td>-1.120629</td>\n    </tr>\n    <tr>\n      <th>36010</th>\n      <td>-1.034653</td>\n      <td>0.220086</td>\n      <td>0.341815</td>\n      <td>1.905630</td>\n      <td>0</td>\n      <td>0.407626</td>\n      <td>-1.073508</td>\n      <td>-0.304861</td>\n      <td>1</td>\n      <td>2</td>\n      <td>-1.619001</td>\n      <td>-1.882241</td>\n    </tr>\n  </tbody>\n</table>\n<p>36011 rows × 12 columns</p>\n</div>"
     },
     "metadata": {},
     "execution_count": 79
    }
   ],
   "source": [
    "df"
   ]
  },
  {
   "cell_type": "code",
   "execution_count": 75,
   "metadata": {},
   "outputs": [],
   "source": [
    "df.drop(['acq_date'], axis=1, inplace=True)"
   ]
  },
  {
   "cell_type": "code",
   "execution_count": 81,
   "metadata": {},
   "outputs": [],
   "source": [
    "df.drop(['latitude', 'longitude'], axis=1, inplace=True)"
   ]
  },
  {
   "cell_type": "code",
   "execution_count": 82,
   "metadata": {},
   "outputs": [
    {
     "output_type": "execute_result",
     "data": {
      "text/plain": [
       "       brightness      scan     track  acq_time  satellite  confidence  \\\n",
       "0       -0.829309 -0.763014 -0.868600 -0.992093          1   -0.843473   \n",
       "1       -0.497600 -0.763014 -0.868600 -0.992093          1    0.148778   \n",
       "2       -0.903023  1.817623  1.955703 -0.990270          1   -1.102321   \n",
       "3       -0.982001 -0.640127 -0.465128 -0.990270          1   -1.490593   \n",
       "4       -0.971470  2.923610  2.762646 -0.990270          1   -1.361169   \n",
       "...           ...       ...       ...       ...        ...         ...   \n",
       "36006   -0.845105 -0.517239 -0.465128  1.903807          0    0.752757   \n",
       "36007   -1.255793 -0.763014 -0.868600  1.903807          0   -1.749441   \n",
       "36008   -1.424280 -0.763014 -0.868600  1.903807          0   -1.059180   \n",
       "36009   -1.324240 -0.763014 -0.868600  1.903807          0   -1.145462   \n",
       "36010   -1.034653  0.220086  0.341815  1.905630          0    0.407626   \n",
       "\n",
       "       bright_t31       frp  daynight  fire_type  \n",
       "0       -0.415364 -0.482583         0          0  \n",
       "1       -0.415364 -0.431650         0          0  \n",
       "2       -0.271395 -0.303777         0          0  \n",
       "3       -0.538766 -0.483666         0          0  \n",
       "4       -0.261112 -0.255012         0          0  \n",
       "...           ...       ...       ...        ...  \n",
       "36006   -0.867838 -0.400224         1          0  \n",
       "36007   -1.073508 -0.484750         1          0  \n",
       "36008   -1.124925 -0.494503         1          0  \n",
       "36009   -1.135208 -0.492336         1          0  \n",
       "36010   -1.073508 -0.304861         1          2  \n",
       "\n",
       "[36011 rows x 10 columns]"
      ],
      "text/html": "<div>\n<style scoped>\n    .dataframe tbody tr th:only-of-type {\n        vertical-align: middle;\n    }\n\n    .dataframe tbody tr th {\n        vertical-align: top;\n    }\n\n    .dataframe thead th {\n        text-align: right;\n    }\n</style>\n<table border=\"1\" class=\"dataframe\">\n  <thead>\n    <tr style=\"text-align: right;\">\n      <th></th>\n      <th>brightness</th>\n      <th>scan</th>\n      <th>track</th>\n      <th>acq_time</th>\n      <th>satellite</th>\n      <th>confidence</th>\n      <th>bright_t31</th>\n      <th>frp</th>\n      <th>daynight</th>\n      <th>fire_type</th>\n    </tr>\n  </thead>\n  <tbody>\n    <tr>\n      <th>0</th>\n      <td>-0.829309</td>\n      <td>-0.763014</td>\n      <td>-0.868600</td>\n      <td>-0.992093</td>\n      <td>1</td>\n      <td>-0.843473</td>\n      <td>-0.415364</td>\n      <td>-0.482583</td>\n      <td>0</td>\n      <td>0</td>\n    </tr>\n    <tr>\n      <th>1</th>\n      <td>-0.497600</td>\n      <td>-0.763014</td>\n      <td>-0.868600</td>\n      <td>-0.992093</td>\n      <td>1</td>\n      <td>0.148778</td>\n      <td>-0.415364</td>\n      <td>-0.431650</td>\n      <td>0</td>\n      <td>0</td>\n    </tr>\n    <tr>\n      <th>2</th>\n      <td>-0.903023</td>\n      <td>1.817623</td>\n      <td>1.955703</td>\n      <td>-0.990270</td>\n      <td>1</td>\n      <td>-1.102321</td>\n      <td>-0.271395</td>\n      <td>-0.303777</td>\n      <td>0</td>\n      <td>0</td>\n    </tr>\n    <tr>\n      <th>3</th>\n      <td>-0.982001</td>\n      <td>-0.640127</td>\n      <td>-0.465128</td>\n      <td>-0.990270</td>\n      <td>1</td>\n      <td>-1.490593</td>\n      <td>-0.538766</td>\n      <td>-0.483666</td>\n      <td>0</td>\n      <td>0</td>\n    </tr>\n    <tr>\n      <th>4</th>\n      <td>-0.971470</td>\n      <td>2.923610</td>\n      <td>2.762646</td>\n      <td>-0.990270</td>\n      <td>1</td>\n      <td>-1.361169</td>\n      <td>-0.261112</td>\n      <td>-0.255012</td>\n      <td>0</td>\n      <td>0</td>\n    </tr>\n    <tr>\n      <th>...</th>\n      <td>...</td>\n      <td>...</td>\n      <td>...</td>\n      <td>...</td>\n      <td>...</td>\n      <td>...</td>\n      <td>...</td>\n      <td>...</td>\n      <td>...</td>\n      <td>...</td>\n    </tr>\n    <tr>\n      <th>36006</th>\n      <td>-0.845105</td>\n      <td>-0.517239</td>\n      <td>-0.465128</td>\n      <td>1.903807</td>\n      <td>0</td>\n      <td>0.752757</td>\n      <td>-0.867838</td>\n      <td>-0.400224</td>\n      <td>1</td>\n      <td>0</td>\n    </tr>\n    <tr>\n      <th>36007</th>\n      <td>-1.255793</td>\n      <td>-0.763014</td>\n      <td>-0.868600</td>\n      <td>1.903807</td>\n      <td>0</td>\n      <td>-1.749441</td>\n      <td>-1.073508</td>\n      <td>-0.484750</td>\n      <td>1</td>\n      <td>0</td>\n    </tr>\n    <tr>\n      <th>36008</th>\n      <td>-1.424280</td>\n      <td>-0.763014</td>\n      <td>-0.868600</td>\n      <td>1.903807</td>\n      <td>0</td>\n      <td>-1.059180</td>\n      <td>-1.124925</td>\n      <td>-0.494503</td>\n      <td>1</td>\n      <td>0</td>\n    </tr>\n    <tr>\n      <th>36009</th>\n      <td>-1.324240</td>\n      <td>-0.763014</td>\n      <td>-0.868600</td>\n      <td>1.903807</td>\n      <td>0</td>\n      <td>-1.145462</td>\n      <td>-1.135208</td>\n      <td>-0.492336</td>\n      <td>1</td>\n      <td>0</td>\n    </tr>\n    <tr>\n      <th>36010</th>\n      <td>-1.034653</td>\n      <td>0.220086</td>\n      <td>0.341815</td>\n      <td>1.905630</td>\n      <td>0</td>\n      <td>0.407626</td>\n      <td>-1.073508</td>\n      <td>-0.304861</td>\n      <td>1</td>\n      <td>2</td>\n    </tr>\n  </tbody>\n</table>\n<p>36011 rows × 10 columns</p>\n</div>"
     },
     "metadata": {},
     "execution_count": 82
    }
   ],
   "source": [
    "df"
   ]
  },
  {
   "cell_type": "code",
   "execution_count": 83,
   "metadata": {},
   "outputs": [],
   "source": [
    "pca = PCA(n_components=5)\n",
    "principalComponents = pca.fit_transform(x)\n",
    "principalDf = pd.DataFrame(data = principalComponents\n",
    "             , columns = ['Comp1', 'Comp2', 'Comp3', 'Comp4', 'Comp5'])"
   ]
  },
  {
   "cell_type": "code",
   "execution_count": 86,
   "metadata": {},
   "outputs": [
    {
     "output_type": "execute_result",
     "data": {
      "text/plain": [
       "          Comp1     Comp2     Comp3     Comp4     Comp5\n",
       "0     -0.571288 -1.076144 -1.112505 -0.767874  0.291846\n",
       "1     -0.038200 -1.160805 -0.627911 -0.424110 -0.378473\n",
       "2     -0.405661  2.664733 -1.801543 -0.803036 -0.238486\n",
       "3     -1.075571 -0.666066 -1.126509 -1.135117  0.655882\n",
       "4     -0.477208  3.998224 -2.062790 -0.906618 -0.307564\n",
       "...         ...       ...       ...       ...       ...\n",
       "36006 -1.485329 -0.712390  0.557610  1.745819 -0.559976\n",
       "36007 -2.608786 -0.916131 -0.618775  1.101475  1.284417\n",
       "36008 -2.487667 -0.962784 -0.410505  1.327816  0.725123\n",
       "36009 -2.470837 -0.959542 -0.406362  1.305930  0.806269\n",
       "36010 -1.611384  0.444240  0.031156  1.899512 -0.573378\n",
       "\n",
       "[36011 rows x 5 columns]"
      ],
      "text/html": "<div>\n<style scoped>\n    .dataframe tbody tr th:only-of-type {\n        vertical-align: middle;\n    }\n\n    .dataframe tbody tr th {\n        vertical-align: top;\n    }\n\n    .dataframe thead th {\n        text-align: right;\n    }\n</style>\n<table border=\"1\" class=\"dataframe\">\n  <thead>\n    <tr style=\"text-align: right;\">\n      <th></th>\n      <th>Comp1</th>\n      <th>Comp2</th>\n      <th>Comp3</th>\n      <th>Comp4</th>\n      <th>Comp5</th>\n    </tr>\n  </thead>\n  <tbody>\n    <tr>\n      <th>0</th>\n      <td>-0.571288</td>\n      <td>-1.076144</td>\n      <td>-1.112505</td>\n      <td>-0.767874</td>\n      <td>0.291846</td>\n    </tr>\n    <tr>\n      <th>1</th>\n      <td>-0.038200</td>\n      <td>-1.160805</td>\n      <td>-0.627911</td>\n      <td>-0.424110</td>\n      <td>-0.378473</td>\n    </tr>\n    <tr>\n      <th>2</th>\n      <td>-0.405661</td>\n      <td>2.664733</td>\n      <td>-1.801543</td>\n      <td>-0.803036</td>\n      <td>-0.238486</td>\n    </tr>\n    <tr>\n      <th>3</th>\n      <td>-1.075571</td>\n      <td>-0.666066</td>\n      <td>-1.126509</td>\n      <td>-1.135117</td>\n      <td>0.655882</td>\n    </tr>\n    <tr>\n      <th>4</th>\n      <td>-0.477208</td>\n      <td>3.998224</td>\n      <td>-2.062790</td>\n      <td>-0.906618</td>\n      <td>-0.307564</td>\n    </tr>\n    <tr>\n      <th>...</th>\n      <td>...</td>\n      <td>...</td>\n      <td>...</td>\n      <td>...</td>\n      <td>...</td>\n    </tr>\n    <tr>\n      <th>36006</th>\n      <td>-1.485329</td>\n      <td>-0.712390</td>\n      <td>0.557610</td>\n      <td>1.745819</td>\n      <td>-0.559976</td>\n    </tr>\n    <tr>\n      <th>36007</th>\n      <td>-2.608786</td>\n      <td>-0.916131</td>\n      <td>-0.618775</td>\n      <td>1.101475</td>\n      <td>1.284417</td>\n    </tr>\n    <tr>\n      <th>36008</th>\n      <td>-2.487667</td>\n      <td>-0.962784</td>\n      <td>-0.410505</td>\n      <td>1.327816</td>\n      <td>0.725123</td>\n    </tr>\n    <tr>\n      <th>36009</th>\n      <td>-2.470837</td>\n      <td>-0.959542</td>\n      <td>-0.406362</td>\n      <td>1.305930</td>\n      <td>0.806269</td>\n    </tr>\n    <tr>\n      <th>36010</th>\n      <td>-1.611384</td>\n      <td>0.444240</td>\n      <td>0.031156</td>\n      <td>1.899512</td>\n      <td>-0.573378</td>\n    </tr>\n  </tbody>\n</table>\n<p>36011 rows × 5 columns</p>\n</div>"
     },
     "metadata": {},
     "execution_count": 86
    }
   ],
   "source": [
    "principalDf"
   ]
  },
  {
   "cell_type": "code",
   "execution_count": 93,
   "metadata": {},
   "outputs": [],
   "source": [
    "x_train, x_test, y_train, y_test = train_test_split(x, y, test_size=0.2, random_state=42)"
   ]
  },
  {
   "cell_type": "code",
   "execution_count": 96,
   "metadata": {},
   "outputs": [
    {
     "output_type": "error",
     "ename": "TypeError",
     "evalue": "All intermediate steps should be transformers and implement fit and transform or be the string 'passthrough' 'SVC()' (type <class 'sklearn.svm._classes.SVC'>) doesn't",
     "traceback": [
      "\u001b[1;31m---------------------------------------------------------------------------\u001b[0m",
      "\u001b[1;31mTypeError\u001b[0m                                 Traceback (most recent call last)",
      "\u001b[1;32m<ipython-input-96-0b16ffe35ab4>\u001b[0m in \u001b[0;36m<module>\u001b[1;34m\u001b[0m\n\u001b[0;32m      1\u001b[0m pipe = Pipeline([('SVC', SVC()),\n\u001b[0;32m      2\u001b[0m                   \u001b[1;33m(\u001b[0m\u001b[1;34m'reglog'\u001b[0m\u001b[1;33m,\u001b[0m \u001b[0mLogisticRegression\u001b[0m\u001b[1;33m(\u001b[0m\u001b[1;33m)\u001b[0m\u001b[1;33m)\u001b[0m\u001b[1;33m,\u001b[0m\u001b[1;33m\u001b[0m\u001b[1;33m\u001b[0m\u001b[0m\n\u001b[1;32m----> 3\u001b[1;33m                   ('randfor', RandomForestClassifier())])\n\u001b[0m\u001b[0;32m      4\u001b[0m \u001b[1;33m\u001b[0m\u001b[0m\n\u001b[0;32m      5\u001b[0m params = { \n",
      "\u001b[1;32m~\\AppData\\Local\\Programs\\Python\\Python37\\lib\\site-packages\\sklearn\\utils\\validation.py\u001b[0m in \u001b[0;36minner_f\u001b[1;34m(*args, **kwargs)\u001b[0m\n\u001b[0;32m     61\u001b[0m             \u001b[0mextra_args\u001b[0m \u001b[1;33m=\u001b[0m \u001b[0mlen\u001b[0m\u001b[1;33m(\u001b[0m\u001b[0margs\u001b[0m\u001b[1;33m)\u001b[0m \u001b[1;33m-\u001b[0m \u001b[0mlen\u001b[0m\u001b[1;33m(\u001b[0m\u001b[0mall_args\u001b[0m\u001b[1;33m)\u001b[0m\u001b[1;33m\u001b[0m\u001b[1;33m\u001b[0m\u001b[0m\n\u001b[0;32m     62\u001b[0m             \u001b[1;32mif\u001b[0m \u001b[0mextra_args\u001b[0m \u001b[1;33m<=\u001b[0m \u001b[1;36m0\u001b[0m\u001b[1;33m:\u001b[0m\u001b[1;33m\u001b[0m\u001b[1;33m\u001b[0m\u001b[0m\n\u001b[1;32m---> 63\u001b[1;33m                 \u001b[1;32mreturn\u001b[0m \u001b[0mf\u001b[0m\u001b[1;33m(\u001b[0m\u001b[1;33m*\u001b[0m\u001b[0margs\u001b[0m\u001b[1;33m,\u001b[0m \u001b[1;33m**\u001b[0m\u001b[0mkwargs\u001b[0m\u001b[1;33m)\u001b[0m\u001b[1;33m\u001b[0m\u001b[1;33m\u001b[0m\u001b[0m\n\u001b[0m\u001b[0;32m     64\u001b[0m \u001b[1;33m\u001b[0m\u001b[0m\n\u001b[0;32m     65\u001b[0m             \u001b[1;31m# extra_args > 0\u001b[0m\u001b[1;33m\u001b[0m\u001b[1;33m\u001b[0m\u001b[1;33m\u001b[0m\u001b[0m\n",
      "\u001b[1;32m~\\AppData\\Local\\Programs\\Python\\Python37\\lib\\site-packages\\sklearn\\pipeline.py\u001b[0m in \u001b[0;36m__init__\u001b[1;34m(self, steps, memory, verbose)\u001b[0m\n\u001b[0;32m    116\u001b[0m         \u001b[0mself\u001b[0m\u001b[1;33m.\u001b[0m\u001b[0mmemory\u001b[0m \u001b[1;33m=\u001b[0m \u001b[0mmemory\u001b[0m\u001b[1;33m\u001b[0m\u001b[1;33m\u001b[0m\u001b[0m\n\u001b[0;32m    117\u001b[0m         \u001b[0mself\u001b[0m\u001b[1;33m.\u001b[0m\u001b[0mverbose\u001b[0m \u001b[1;33m=\u001b[0m \u001b[0mverbose\u001b[0m\u001b[1;33m\u001b[0m\u001b[1;33m\u001b[0m\u001b[0m\n\u001b[1;32m--> 118\u001b[1;33m         \u001b[0mself\u001b[0m\u001b[1;33m.\u001b[0m\u001b[0m_validate_steps\u001b[0m\u001b[1;33m(\u001b[0m\u001b[1;33m)\u001b[0m\u001b[1;33m\u001b[0m\u001b[1;33m\u001b[0m\u001b[0m\n\u001b[0m\u001b[0;32m    119\u001b[0m \u001b[1;33m\u001b[0m\u001b[0m\n\u001b[0;32m    120\u001b[0m     \u001b[1;32mdef\u001b[0m \u001b[0mget_params\u001b[0m\u001b[1;33m(\u001b[0m\u001b[0mself\u001b[0m\u001b[1;33m,\u001b[0m \u001b[0mdeep\u001b[0m\u001b[1;33m=\u001b[0m\u001b[1;32mTrue\u001b[0m\u001b[1;33m)\u001b[0m\u001b[1;33m:\u001b[0m\u001b[1;33m\u001b[0m\u001b[1;33m\u001b[0m\u001b[0m\n",
      "\u001b[1;32m~\\AppData\\Local\\Programs\\Python\\Python37\\lib\\site-packages\\sklearn\\pipeline.py\u001b[0m in \u001b[0;36m_validate_steps\u001b[1;34m(self)\u001b[0m\n\u001b[0;32m    169\u001b[0m                                 \u001b[1;34m\"transformers and implement fit and transform \"\u001b[0m\u001b[1;33m\u001b[0m\u001b[1;33m\u001b[0m\u001b[0m\n\u001b[0;32m    170\u001b[0m                                 \u001b[1;34m\"or be the string 'passthrough' \"\u001b[0m\u001b[1;33m\u001b[0m\u001b[1;33m\u001b[0m\u001b[0m\n\u001b[1;32m--> 171\u001b[1;33m                                 \"'%s' (type %s) doesn't\" % (t, type(t)))\n\u001b[0m\u001b[0;32m    172\u001b[0m \u001b[1;33m\u001b[0m\u001b[0m\n\u001b[0;32m    173\u001b[0m         \u001b[1;31m# We allow last estimator to be None as an identity transformation\u001b[0m\u001b[1;33m\u001b[0m\u001b[1;33m\u001b[0m\u001b[1;33m\u001b[0m\u001b[0m\n",
      "\u001b[1;31mTypeError\u001b[0m: All intermediate steps should be transformers and implement fit and transform or be the string 'passthrough' 'SVC()' (type <class 'sklearn.svm._classes.SVC'>) doesn't"
     ]
    }
   ],
   "source": [
    "pipe = Pipeline([('SVC', SVC()),\n",
    "                  ('reglog', LogisticRegression()),\n",
    "                  ('randfor', RandomForestClassifier())])\n",
    "\n",
    "params = { \n",
    "    'bootstrap': [True],\n",
    "    'n_estimators': [200, 300],\n",
    "    'max_features': ['auto'],\n",
    "    'max_depth' : [10, 50], \n",
    "    'min_samples_leaf': [1, 2], \n",
    "    'min_samples_split': [2],\n",
    "    'random_state': [42],\n",
    "}\n",
    "\n",
    "\n",
    "modelo_GS = GridSearchCV(estimator= pipe,\n",
    "                        param_grid= params,\n",
    "                        cv = 5,\n",
    "                        scoring = 'accuracy',\n",
    "                        verbose=1, \n",
    "                        n_jobs=-1)\n",
    "\n",
    "grids = {'modelo': modelo_GS}"
   ]
  },
  {
   "cell_type": "code",
   "execution_count": null,
   "metadata": {},
   "outputs": [],
   "source": [
    "for nombre, grid in grids.items():\n",
    "    print(\"#################\")\n",
    "    print(\"NOMBRE:\", nombre)\n",
    "    print(\"#################\")\n",
    "    grid.fit(X_train, y_train)"
   ]
  }
 ]
}